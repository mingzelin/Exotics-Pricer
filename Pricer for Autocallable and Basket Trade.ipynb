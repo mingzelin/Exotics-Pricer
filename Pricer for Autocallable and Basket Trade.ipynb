{
 "cells": [
  {
   "cell_type": "markdown",
   "id": "140596e6",
   "metadata": {},
   "source": [
    "Question1\n",
    "Refer to the autocallable mecahnism/assumptions guided on this page:\n",
    "https://www.morganstanley.com/structuredinvestments/downloads/Autocallable.pdf\n"
   ]
  },
  {
   "cell_type": "code",
   "execution_count": 101,
   "id": "07926b66",
   "metadata": {},
   "outputs": [],
   "source": [
    "##########\n",
    "#Mingze Lin @2022\n",
    "##########\n",
    "\n",
    "import numpy\n",
    "import scipy \n",
    "import math\n",
    "\n",
    "#maturity in years\n",
    "#knockin = principal barrier\n",
    "#knockout = call hurdle\n",
    "\n",
    "def autocallable(stockpr, knockin, knockout, coupon_rate, maturity, sigma, rounds):\n",
    "  vol = sigma/math.sqrt(252)  \n",
    "  sum = 0\n",
    "\n",
    "  for round in range(rounds):\n",
    "    s_new = stockpr \n",
    "    s_curr = stockpr\n",
    "    nocoupon = 0\n",
    "    payout = 0\n",
    "    called_indicator = 0\n",
    "    finished_year = 0\n",
    "    for i in range(maturity*252):\n",
    "        s_new += s_curr * vol * scipy.random.normal() \n",
    "        \n",
    "        if i%252==251:\n",
    "            if s_new >= knockout:\n",
    "                called_indicator=1\n",
    "                finished_year = math.ceil(i/252)\n",
    "                break\n",
    "            elif s_new < knockin:\n",
    "                nocoupon += 1\n",
    "        s_curr = s_new\n",
    "    \n",
    "    if s_curr < knockin: \n",
    "        payout += (maturity - nocoupon)* coupon_rate * stockpr \n",
    "        payout += s_curr\n",
    "    elif called_indicator == 1:\n",
    "        payout += (finished_year - nocoupon)* coupon_rate * stockpr \n",
    "        payout += stockpr\n",
    "    else:\n",
    "        payout += (maturity - nocoupon)* coupon_rate * stockpr \n",
    "        payout += stockpr\n",
    "    sum += payout\n",
    "  print(\"avg payout = \" + str(sum/rounds))\n",
    "  print(\"option price = \" + str(sum/rounds-stockpr))"
   ]
  },
  {
   "cell_type": "code",
   "execution_count": 102,
   "id": "b8e7f5d0",
   "metadata": {},
   "outputs": [
    {
     "name": "stdout",
     "output_type": "stream",
     "text": [
      "avg payout = 101.59877873272171\n",
      "option price = 1.598778732721712\n"
     ]
    }
   ],
   "source": [
    "#knock-in = 60\n",
    "#knock-out = 110\n",
    "autocallable(100, 60, 110, 0.02, 5, 0.16, 10000)"
   ]
  },
  {
   "cell_type": "markdown",
   "id": "132ecf7d",
   "metadata": {},
   "source": [
    "Monte Carlo Simulation for Basket Trade\n",
    "\n",
    "Call Pricer on avg of worst 3"
   ]
  },
  {
   "cell_type": "code",
   "execution_count": 53,
   "id": "5db067af",
   "metadata": {},
   "outputs": [],
   "source": [
    "#maturity in years\n",
    "def avgBasket(stockpr, strike, maturity, sigma, rounds, corr12, corr13, corr23):\n",
    "    vol = sigma/math.sqrt(252)\n",
    "    sum = 0\n",
    "    price = 0\n",
    "    for round in range(rounds):\n",
    "        s1 = stockpr #s1\n",
    "        s2 = stockpr\n",
    "        s3 = stockpr\n",
    "        s4 = stockpr #s2\n",
    "        s5 = stockpr #s3\n",
    "        for i in range(maturity*252):\n",
    "            move1 = s1 * vol * scipy.random.normal()\n",
    "            move2 = s2 * vol * scipy.random.normal()\n",
    "            move3 = s3 * vol * scipy.random.normal()\n",
    "            s1 += move1 \n",
    "            s2 += move2\n",
    "            s3 += move3\n",
    "            \n",
    "            move4 = corr12*move1 + math.sqrt(1-corr12*corr12)*move2\n",
    "            s4 += move4\n",
    "            \n",
    "            move5 = corr13*move1+corr23*move4+ math.sqrt(1-(corr13*corr13)-(corr23*corr23))*move3\n",
    "            s5 += move5\n",
    "        \n",
    "        avg = (s1+s4+s5)/3\n",
    "        sum += avg\n",
    "        price += max(avg-strike, 0)\n",
    "        \n",
    "    print(\"stock price = \" + str(sum/rounds))\n",
    "    print(\"option price = \" + str(price/rounds))"
   ]
  },
  {
   "cell_type": "code",
   "execution_count": 54,
   "id": "8d56df8e",
   "metadata": {},
   "outputs": [
    {
     "name": "stdout",
     "output_type": "stream",
     "text": [
      "stock price = 100.05032837798235\n",
      "option price = 4.108710124469348\n",
      "stock price = 99.85889499088735\n",
      "option price = 4.145536639848335\n",
      "stock price = 100.07375065433473\n",
      "option price = 4.414628045695976\n",
      "stock price = 100.11098059165685\n",
      "option price = 4.429556651244858\n"
     ]
    }
   ],
   "source": [
    "avgBasket(100, 100, 1, 0.16, 10000, 0.1, 0.1, 0.1)\n",
    "#correlations + 50%, +70%, +80%\n",
    "avgBasket(100, 100, 1, 0.16, 10000, 0.1*1.5, 0.1*1.5, 0.1*1.5)\n",
    "avgBasket(100, 100, 1, 0.16, 10000, 0.1*1.7, 0.1*1.7, 0.1*1.7)\n",
    "avgBasket(100, 100, 1, 0.16, 10000, 0.1*1.8, 0.1*1.8, 0.1*1.8)"
   ]
  },
  {
   "cell_type": "code",
   "execution_count": 14,
   "id": "636ee989",
   "metadata": {},
   "outputs": [
    {
     "name": "stdout",
     "output_type": "stream",
     "text": [
      "stock price = 100.12733747628931\n",
      "option price = 4.145442045240576\n",
      "stock price = 100.19087725425523\n",
      "option price = 4.195444179957302\n"
     ]
    }
   ],
   "source": [
    "#check the sensitivity to correlation\n",
    "avgBasket(100, 100, 1, 0.16, 10000, 0.11, 0.1, 0.1)\n",
    "avgBasket(100, 100, 1, 0.16, 10000, 0.11, 0.11, 0.11)\n",
    "#########\n",
    "#Conclusion: avg of short correlation\n",
    "#########"
   ]
  },
  {
   "cell_type": "markdown",
   "id": "ebb8755e",
   "metadata": {},
   "source": [
    "Put Pricer on worst 3"
   ]
  },
  {
   "cell_type": "code",
   "execution_count": 12,
   "id": "92acbe2b",
   "metadata": {},
   "outputs": [],
   "source": [
    "#maturity in years\n",
    "def worstBasket(stockpr, strike, maturity, sigma, rounds, corr12, corr13, corr23):\n",
    "    vol = sigma/math.sqrt(252)\n",
    "    sum = 0\n",
    "    price = 0\n",
    "    for round in range(rounds):\n",
    "        s1 = stockpr #s1\n",
    "        s2 = stockpr\n",
    "        s3 = stockpr\n",
    "        s4 = stockpr #s2\n",
    "        s5 = stockpr #s3\n",
    "        for i in range(maturity*252):\n",
    "            move1 = s1 * vol * scipy.random.normal()\n",
    "            move2 = s2 * vol * scipy.random.normal()\n",
    "            move3 = s3 * vol * scipy.random.normal()\n",
    "            s1 += move1 \n",
    "            s2 += move2\n",
    "            s3 += move3\n",
    "            \n",
    "            move4 = corr12*move1 + math.sqrt(1-corr12*corr12)*move2\n",
    "            s4 += move4\n",
    "            \n",
    "            move5 = corr13*move1+corr23*move4+ math.sqrt(1-(corr13*corr13)-(corr23*corr23))*move3\n",
    "            s5 += move5\n",
    "        \n",
    "        minimum = min(min(s1,s4),s5)\n",
    "        sum += minimum\n",
    "        price += max(strike - minimum, 0)\n",
    "        \n",
    "    print(\"stock price = \" + str(sum/rounds))\n",
    "    print(\"option price = \" + str(price/rounds))"
   ]
  },
  {
   "cell_type": "code",
   "execution_count": 13,
   "id": "bb5f1efe",
   "metadata": {},
   "outputs": [
    {
     "name": "stdout",
     "output_type": "stream",
     "text": [
      "stock price = 87.77377750621005\n",
      "option price = 0.008336872920836073\n",
      "stock price = 87.80044528033036\n",
      "option price = 0.010409998400261328\n",
      "stock price = 88.17610263588351\n",
      "option price = 0.007744412168993287\n",
      "stock price = 87.96399273995227\n",
      "option price = 0.009356753322541178\n"
     ]
    }
   ],
   "source": [
    "worstBasket(100, 60, 1, 0.16, 10000, 0.1, 0.1, 0.1)\n",
    "#correlations + 50%, +70%, +80%\n",
    "worstBasket(100, 60, 1, 0.16, 10000, 0.1*1.5, 0.1*1.5, 0.1*1.5)\n",
    "worstBasket(100, 60, 1, 0.16, 10000, 0.1*1.7, 0.1*1.7, 0.1*1.7)\n",
    "worstBasket(100, 60, 1, 0.16, 10000, 0.1*1.8, 0.1*1.8, 0.1*1.8)"
   ]
  },
  {
   "cell_type": "code",
   "execution_count": 17,
   "id": "d0098cec",
   "metadata": {},
   "outputs": [
    {
     "name": "stdout",
     "output_type": "stream",
     "text": [
      "stock price = 87.5680190612218\n",
      "option price = 0.00643220790915426\n",
      "stock price = 87.45114616764786\n",
      "option price = 0.008302502285701173\n",
      "stock price = 87.6110372160221\n",
      "option price = 5.681966553283787\n",
      "stock price = 87.64954506743291\n",
      "option price = 5.690015491666136\n",
      "stock price = 87.7003264205062\n",
      "option price = 5.623833097022666\n"
     ]
    }
   ],
   "source": [
    "#check the sensitivity to correlation\n",
    "worstBasket(100, 60, 1, 0.16, 10000, 0.11, 0.1, 0.1)\n",
    "worstBasket(100, 60, 1, 0.16, 10000, 0.11, 0.11, 0.11)\n",
    "#sensitivity to correlation after changing the strike to 90%\n",
    "worstBasket(100, 90, 1, 0.16, 10000, 0.1, 0.1, 0.1)\n",
    "worstBasket(100, 90, 1, 0.16, 10000, 0.11, 0.1, 0.1)\n",
    "worstBasket(100, 90, 1, 0.16, 10000, 0.11, 0.11, 0.11)\n",
    "#########\n",
    "#Conclusion: worst of long correlation\n",
    "#########"
   ]
  },
  {
   "cell_type": "markdown",
   "id": "80b7bbca",
   "metadata": {},
   "source": [
    "Pricer for down-and-in put on worst of 3"
   ]
  },
  {
   "cell_type": "code",
   "execution_count": 103,
   "id": "53260294",
   "metadata": {},
   "outputs": [],
   "source": [
    "#Assume pays 10% coupon every year as long as the worst of a basket of 3 names is above 80% of its initial level.\n",
    "#maturity in years\n",
    "counpon_rate = 0.1\n",
    "coupon_threshold = 80\n",
    "def knockinPutBasket(stockpr, strike, maturity, sigma, rounds, corr12, corr13, corr23):\n",
    "    vol = sigma/math.sqrt(252)\n",
    "    sum = 0\n",
    "    price = 0\n",
    "    for round in range(rounds):\n",
    "        s1 = stockpr #s1\n",
    "        s2 = stockpr\n",
    "        s3 = stockpr\n",
    "        s4 = stockpr #s2\n",
    "        s5 = stockpr #s3\n",
    "        knockin_indicator = 0\n",
    "        coupon_num = 0\n",
    "        for i in range(maturity*252):\n",
    "            move1 = s1 * vol * scipy.random.normal()\n",
    "            move2 = s2 * vol * scipy.random.normal()\n",
    "            move3 = s3 * vol * scipy.random.normal()\n",
    "            s1 += move1 \n",
    "            s2 += move2\n",
    "            s3 += move3\n",
    "            \n",
    "            move4 = corr12*move1 + math.sqrt(1-corr12*corr12)*move2\n",
    "            s4 += move4\n",
    "            \n",
    "            move5 = corr13*move1+corr23*move4+ math.sqrt(1-(corr13*corr13)-(corr23*corr23))*move3\n",
    "            s5 += move5       \n",
    "            \n",
    "            if(i%252 == 251):\n",
    "                minimum = min(min(s1,s4),s5)\n",
    "                if(minimum < 60):\n",
    "                    knockin_indicator = 1\n",
    "                elif(minimum > coupon_threshold):\n",
    "                    coupon_num += 1\n",
    "                \n",
    "        minimum = min(min(s1,s4),s5)\n",
    "        if(knockin_indicator == 1):\n",
    "            sum += minimum\n",
    "            sum += coupon_num*counpon_rate*stockpr\n",
    "        else:\n",
    "            sum += stockpr\n",
    "            sum += coupon_num*counpon_rate*stockpr\n",
    "            \n",
    "    print(\"avg payout = \" + str(sum/rounds))\n",
    "    print(\"option price = \" + str(sum/rounds-stockpr))"
   ]
  },
  {
   "cell_type": "code",
   "execution_count": 105,
   "id": "6c98387e",
   "metadata": {},
   "outputs": [
    {
     "name": "stdout",
     "output_type": "stream",
     "text": [
      "avg payout = 107.46365988422329\n",
      "option price = 7.46365988422329\n",
      "avg payout = 107.43439762853966\n",
      "option price = 7.4343976285396565\n",
      "avg payout = 107.4568108617564\n",
      "option price = 7.456810861756395\n",
      "avg payout = 107.45276828825355\n",
      "option price = 7.4527682882535515\n"
     ]
    }
   ],
   "source": [
    "knockinPutBasket(100, 60, 1, 0.16, 10000, 0.1, 0.1, 0.1)\n",
    "#correlations + 50%, +70%, +80%\n",
    "knockinPutBasket(100, 60, 1, 0.16, 10000, 0.1*1.5, 0.1*1.5, 0.1*1.5)\n",
    "knockinPutBasket(100, 60, 1, 0.16, 10000, 0.1*1.7, 0.1*1.7, 0.1*1.7)\n",
    "knockinPutBasket(100, 60, 1, 0.16, 10000, 0.1*1.8, 0.1*1.8, 0.1*1.8)"
   ]
  },
  {
   "cell_type": "code",
   "execution_count": 106,
   "id": "7b5a723d",
   "metadata": {},
   "outputs": [
    {
     "name": "stdout",
     "output_type": "stream",
     "text": [
      "avg payout = 107.37734384688227\n",
      "option price = 7.377343846882269\n",
      "avg payout = 107.4575454673877\n",
      "option price = 7.457545467387703\n",
      "avg payout = 107.41887411194158\n",
      "option price = 7.418874111941577\n",
      "avg payout = 107.43161191267534\n",
      "option price = 7.431611912675336\n",
      "avg payout = 107.41774178218157\n",
      "option price = 7.417741782181565\n"
     ]
    }
   ],
   "source": [
    "#check the sensitivity to correlation\n",
    "knockinPutBasket(100, 60, 1, 0.16, 10000, 0.11, 0.1, 0.1)\n",
    "knockinPutBasket(100, 60, 1, 0.16, 10000, 0.11, 0.11, 0.11)\n",
    "#sensitivity to correlation after changing the strike to 90%\n",
    "knockinPutBasket(100, 90, 1, 0.16, 10000, 0.1, 0.1, 0.1)\n",
    "knockinPutBasket(100, 90, 1, 0.16, 10000, 0.11, 0.1, 0.1)\n",
    "knockinPutBasket(100, 90, 1, 0.16, 10000, 0.11, 0.11, 0.11)\n"
   ]
  },
  {
   "cell_type": "code",
   "execution_count": 107,
   "id": "16d7377c",
   "metadata": {},
   "outputs": [
    {
     "name": "stdout",
     "output_type": "stream",
     "text": [
      "avg payout = 107.53531713839801\n",
      "option price = 7.535317138398014\n"
     ]
    }
   ],
   "source": [
    "knockinPutBasket(100, 60, 1, 0.16, 10000, 0.3, 0.3, 0.3)\n",
    "\n",
    "#########\n",
    "#Conclusion: down-and-in put on worst of 3 longs correlation\n",
    "#########"
   ]
  }
 ],
 "metadata": {
  "kernelspec": {
   "display_name": "Python 3 (ipykernel)",
   "language": "python",
   "name": "python3"
  },
  "language_info": {
   "codemirror_mode": {
    "name": "ipython",
    "version": 3
   },
   "file_extension": ".py",
   "mimetype": "text/x-python",
   "name": "python",
   "nbconvert_exporter": "python",
   "pygments_lexer": "ipython3",
   "version": "3.9.12"
  }
 },
 "nbformat": 4,
 "nbformat_minor": 5
}
