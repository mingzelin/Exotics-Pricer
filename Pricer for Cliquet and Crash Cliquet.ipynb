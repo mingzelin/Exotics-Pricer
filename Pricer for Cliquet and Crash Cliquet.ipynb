{
 "cells": [
  {
   "cell_type": "code",
   "execution_count": 1,
   "id": "b30d127e",
   "metadata": {},
   "outputs": [],
   "source": [
    "import math\n",
    "import random\n",
    "import pandas as pd\n",
    "import matplotlib.pyplot as plt\n",
    "from statistics import NormalDist as normal\n",
    "from scipy.stats import norm\n",
    "from numpy import log as ln\n",
    "from tabulate import tabulate\n",
    "\n",
    "#########\n",
    "##MINGZE @2022\n",
    "#########"
   ]
  },
  {
   "cell_type": "code",
   "execution_count": 2,
   "id": "562ceeee",
   "metadata": {},
   "outputs": [],
   "source": [
    "#prices calls and puts using BS formula\n",
    "\n",
    "def d1f(s,k,r,t,vol):\n",
    "    d1 = (ln(s/k)+(r+vol*vol/2)*t)/(vol*math.sqrt(t));\n",
    "    return d1;\n",
    "\n",
    "def d2f(s,k,r,t,vol):\n",
    "    d1 = d1f(s,k,r,t,vol);\n",
    "    d2 = d1 - vol*math.sqrt(t);\n",
    "    return d2;\n",
    "\n",
    "def call_pricing(s,k,r,t,vol):\n",
    "    c = norm.cdf(x = d1f(s,k,r,t,vol))*s - norm.cdf(x = d2f(s,k,r,t,vol))*k*math.exp(-r*t);\n",
    "    return c\n",
    "    \n",
    "def put_pricing(s,k,r,t,vol):\n",
    "    p = norm.cdf(x = -d2f(s,k,r,t,vol))*k*math.exp(-r*t) - norm.cdf(x = -d1f(s,k,r,t,vol))*s; \n",
    "    return "
   ]
  },
  {
   "cell_type": "code",
   "execution_count": 3,
   "id": "73c49700",
   "metadata": {},
   "outputs": [],
   "source": [
    "def create_MC(vol, maturity, stock0=100):\n",
    "    stock_initial = stock0;\n",
    "    stock = stock_initial;\n",
    "    #time series list\n",
    "    mc_ts = [];\n",
    "    counter=1;\n",
    "\n",
    "    for d in range(round(maturity)):\n",
    "        mc_ts.append(stock);\n",
    "        rand = random.uniform(0,1);\n",
    "        change=stock*vol*normal(mu=0, sigma=1).inv_cdf(rand);\n",
    "        stock+=change;\n",
    "        counter+=1;\n",
    "    return mc_ts;\n",
    "\n",
    "#vol is annualized; m in days\n",
    "def simulateMC(vol = 0.16, m = 252, s=100, k=100, r=20000):  \n",
    "    vol_day = vol/16;\n",
    "    sum = 0;\n",
    "    for i in range(r):    \n",
    "        lst = create_MC(vol_day, m, stock0=s);\n",
    "        sum+=max(lst[round(m)-1]-k,0);\n",
    "    avg = sum/r;\n",
    "    return avg;\n",
    "\n",
    "def simulatePrice(vol = 0.16, m = 252, s=100, r=20000):  \n",
    "    vol_day = vol/16;\n",
    "    sum = 0;\n",
    "    for i in range(r):    \n",
    "        lst = create_MC(vol_day, m, stock0=s);\n",
    "        sum+=lst[round(m)-1];\n",
    "    avgLastPrice = sum/r;\n",
    "    return avgLastPrice;"
   ]
  },
  {
   "cell_type": "code",
   "execution_count": 4,
   "id": "388aa013",
   "metadata": {},
   "outputs": [],
   "source": [
    "def getDelta(vol, maturity, stock=100, strike=120,  rounds=20000):\n",
    "    s101 = simulateMC(vol, m = 252*maturity, s=stock*1.01, k=strike, r=rounds);\n",
    "    s100 = simulateMC(vol, m = 252*maturity, s=stock, k=strike, r=rounds);   \n",
    "    return 100*(s101-s100);\n",
    "\n",
    "def getGamma(vol, maturity, stock=100, strike=120, rounds=20000):\n",
    "    d01 = getDelta(vol, maturity, stock*1.01, strike, rounds);\n",
    "    d00 = getDelta(vol, maturity, stock, strike, rounds);\n",
    "    return d01-d00;\n",
    "\n",
    "def getVega(vol, maturity, strike=120, rounds=20000):\n",
    "    v01 = simulateMC(vol+0.01, m = 252*maturity, s=100, k=strike, r=rounds);\n",
    "    v00 = simulateMC(vol, m = 252*maturity, s=100, k=strike, r=rounds);\n",
    "    return v01-v00;"
   ]
  },
  {
   "cell_type": "code",
   "execution_count": 5,
   "id": "20004967",
   "metadata": {},
   "outputs": [
    {
     "data": {
      "text/plain": [
       "7.99815571193399"
      ]
     },
     "execution_count": 5,
     "metadata": {},
     "output_type": "execute_result"
    }
   ],
   "source": [
    "rounds = 20000\n",
    "vol = 0.16\n",
    "\n",
    "##using MC approach\n",
    "getGamma(vol, 1/12, 100, 100, rounds)"
   ]
  },
  {
   "cell_type": "markdown",
   "id": "6c10caab",
   "metadata": {},
   "source": [
    "Cliquet Pricer with Monte Carlo Simulation"
   ]
  },
  {
   "cell_type": "code",
   "execution_count": 6,
   "id": "ddd8c333",
   "metadata": {},
   "outputs": [],
   "source": [
    "import scipy\n",
    "import math\n",
    "\n",
    "def cliquet_pricer(s, k1, k2, T, sigma, rounds, restrike):\n",
    "  vol = sigma/math.sqrt(252)*math.sqrt(252/restrike)   \n",
    "  sum = 0\n",
    "  for round in range(rounds):\n",
    "    s_new = s \n",
    "    s_curr = s\n",
    "    payout = 0\n",
    "    kk1 = k1\n",
    "    kk2 = k2\n",
    "    tenor = int(252/restrike)\n",
    "    for ith in range(restrike):\n",
    "      for jth in range(tenor):\n",
    "          s_new += s_curr * vol * scipy.random.normal()\n",
    "      payout += min(max(s_new - kk1,0), (kk2 - kk1))\n",
    "      kk1 = kk1 * (s_new/s_curr)\n",
    "      kk2 = kk2 * (s_new/s_curr)\n",
    "      s_curr = s_new\n",
    "    sum += payout\n",
    "  return sum/rounds"
   ]
  },
  {
   "cell_type": "code",
   "execution_count": 7,
   "id": "de06a3bc",
   "metadata": {},
   "outputs": [],
   "source": [
    "def cs_pricer(s, k1, k2, T, sigma, rounds):\n",
    "    return cliquet_pricer(s, k1, k2, T, sigma, rounds, 1)"
   ]
  },
  {
   "cell_type": "code",
   "execution_count": 8,
   "id": "830f3a6c",
   "metadata": {},
   "outputs": [
    {
     "name": "stdout",
     "output_type": "stream",
     "text": [
      "77.07792741199195\n",
      "9.889862859609238\n"
     ]
    }
   ],
   "source": [
    "#Python pricer for cliquet option that restrike every month \n",
    "# with strikes 100 and 120, and one year maturity \n",
    "print(cliquet_pricer(100, 100, 120, 1, 0.16, 10000, 12))\n",
    "\n",
    "#Compare the price with that of a 1Y call spread with the same strikes\n",
    "print(cs_pricer(100, 100, 120, 1, 0.16, 10000))"
   ]
  },
  {
   "cell_type": "markdown",
   "id": "eb7d4c3f",
   "metadata": {},
   "source": [
    "Crash Cliquet Pricing with Monte Carlo"
   ]
  },
  {
   "cell_type": "code",
   "execution_count": 12,
   "id": "6b8e3ff5",
   "metadata": {},
   "outputs": [],
   "source": [
    "import scipy\n",
    "import math\n",
    "\n",
    "def crach_cliquet_pricer(s, k1, k2, T, sigma, rounds, restrike):\n",
    "  vol = sigma/math.sqrt(252)  \n",
    "  sum = 0\n",
    "  for round in range(rounds):\n",
    "    s_new = s \n",
    "    s_curr = s\n",
    "    payout = 0\n",
    "    kk1 = k1\n",
    "    kk2 = k2\n",
    "    for ith in range(restrike):\n",
    "      #for jth in range(tenor):\n",
    "      s_new += s_curr * vol * scipy.random.normal() \n",
    "      payout += min(max(kk2 - s_new,0), (kk2 - kk1))\n",
    "      kk1 = kk1 * (s_new/s_curr)\n",
    "      kk2 = kk2 * (s_new/s_curr)\n",
    "      s_curr = s_new\n",
    "    sum += payout\n",
    "  return sum/rounds"
   ]
  },
  {
   "cell_type": "code",
   "execution_count": 16,
   "id": "00cef516",
   "metadata": {},
   "outputs": [
    {
     "name": "stdout",
     "output_type": "stream",
     "text": [
      "price = 0.0\n"
     ]
    }
   ],
   "source": [
    "payout = crach_cliquet_pricer(100, 70, 80, 1, 0.16, 6000, 252)\n",
    "print(\"price = \" + str(price))"
   ]
  },
  {
   "cell_type": "code",
   "execution_count": 15,
   "id": "35479c43",
   "metadata": {},
   "outputs": [
    {
     "name": "stdout",
     "output_type": "stream",
     "text": [
      "delta = 0.0\n",
      "gamma = 0.0\n",
      "vega = 0.0\n"
     ]
    }
   ],
   "source": [
    "#what are its greeks? \n",
    "delta = crach_cliquet_pricer(100*1.01, 70, 80, 1, 0.16, 6000, 252)-crach_cliquet_pricer(100, 70, 80, 1, 0.16, 6000, 252)\n",
    "\n",
    "delta01=crach_cliquet_pricer(100*1.01*1.01, 70, 80, 1, 0.16, 6000, 252)-crach_cliquet_pricer(100*1.01, 70, 80, 1, 0.16, 6000, 252)\n",
    "\n",
    "gamma = delta01 - delta\n",
    "\n",
    "vega = crach_cliquet_pricer(100, 70, 80, 1, 0.16+0.01, 6000, 252) - crach_cliquet_pricer(100, 70, 80, 1, 0.16, 6000, 252)\n",
    "\n",
    "print(\"delta = \" + str(delta) + \"\\ngamma = \" + str(gamma) + \"\\nvega = \" +str(vega))\n"
   ]
  }
 ],
 "metadata": {
  "kernelspec": {
   "display_name": "Python 3 (ipykernel)",
   "language": "python",
   "name": "python3"
  },
  "language_info": {
   "codemirror_mode": {
    "name": "ipython",
    "version": 3
   },
   "file_extension": ".py",
   "mimetype": "text/x-python",
   "name": "python",
   "nbconvert_exporter": "python",
   "pygments_lexer": "ipython3",
   "version": "3.9.12"
  }
 },
 "nbformat": 4,
 "nbformat_minor": 5
}
