{
 "cells": [
  {
   "cell_type": "code",
   "execution_count": 1,
   "id": "39671180",
   "metadata": {},
   "outputs": [],
   "source": [
    "import math\n",
    "import random\n",
    "import pandas as pd\n",
    "import matplotlib.pyplot as plt\n",
    "from statistics import NormalDist as normal\n",
    "from scipy.stats import norm\n",
    "from numpy import log as ln\n",
    "from tabulate import tabulate\n",
    "\n",
    "#########\n",
    "##MINGZE @2022\n",
    "#########"
   ]
  },
  {
   "cell_type": "code",
   "execution_count": 2,
   "id": "fddb2055",
   "metadata": {},
   "outputs": [],
   "source": [
    "def create_MC(vol, maturity, stock0=100):\n",
    "    stock_initial = stock0;\n",
    "    stock = stock_initial;\n",
    "    #time series list\n",
    "    mc_ts = [];\n",
    "    counter=1;\n",
    "\n",
    "    for d in range(round(maturity)):\n",
    "        mc_ts.append(stock);\n",
    "        rand = random.uniform(0,1);\n",
    "        change=stock*vol*normal(mu=0, sigma=1).inv_cdf(rand);\n",
    "        stock+=change;\n",
    "        counter+=1;\n",
    "    return mc_ts;\n",
    "\n",
    "#vol is annualized; m in days\n",
    "def simulateMC(vol = 0.16, m = 252, s=100, k=100, r=20000):  \n",
    "    vol_day = vol/16;\n",
    "    total = 0;\n",
    "    for i in range(r):    \n",
    "        lst = create_MC(vol_day, m, stock0=s);\n",
    "        if(lst[round(m)-1]>k):\n",
    "            total+=1;\n",
    "    return total;\n",
    "\n"
   ]
  },
  {
   "cell_type": "code",
   "execution_count": 3,
   "id": "d2cb44e9",
   "metadata": {},
   "outputs": [
    {
     "name": "stdout",
     "output_type": "stream",
     "text": [
      "The prob is: \n",
      "0.1063\n"
     ]
    }
   ],
   "source": [
    "rounds=10000\n",
    "v = 0.16\n",
    "outcome = simulateMC(vol = v, m = 252, s=100, k=120, r=rounds)\n",
    "print(\"The prob is: \")\n",
    "print(outcome/rounds)"
   ]
  },
  {
   "cell_type": "code",
   "execution_count": null,
   "id": "467362a4",
   "metadata": {},
   "outputs": [],
   "source": []
  }
 ],
 "metadata": {
  "kernelspec": {
   "display_name": "Python 3 (ipykernel)",
   "language": "python",
   "name": "python3"
  },
  "language_info": {
   "codemirror_mode": {
    "name": "ipython",
    "version": 3
   },
   "file_extension": ".py",
   "mimetype": "text/x-python",
   "name": "python",
   "nbconvert_exporter": "python",
   "pygments_lexer": "ipython3",
   "version": "3.9.12"
  }
 },
 "nbformat": 4,
 "nbformat_minor": 5
}
